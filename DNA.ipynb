{
 "cells": [
  {
   "cell_type": "code",
   "execution_count": 2,
   "id": "d7f5c88f",
   "metadata": {},
   "outputs": [],
   "source": [
    "vertex_names = ['I', 'L', 'O', 'V', 'E', 'D', 'N','A']\n",
    "V = len(vertex_names)\n",
    "edges = [(0,1),(0,2),(0,5),(1,2),\n",
    "         (2,3),(1,7),(3,2),(3,5),\n",
    "         (3,4),(4,5),(5,1),(5,6),(6,7)]\n",
    "\n",
    "pairings = {'A':'T',\n",
    "           'T':'A',\n",
    "           'G':'C',\n",
    "           'C':'G'}\n",
    "\n",
    "K = 10"
   ]
  },
  {
   "cell_type": "code",
   "execution_count": 3,
   "id": "d17276bd",
   "metadata": {},
   "outputs": [],
   "source": [
    "import random"
   ]
  },
  {
   "cell_type": "code",
   "execution_count": 10,
   "id": "93a878a5",
   "metadata": {},
   "outputs": [
    {
     "name": "stdout",
     "output_type": "stream",
     "text": [
      "Vertex Strands Generated:['AGAGCTAACG', 'GAAAGGGCGC', 'CTCACCCCGC', 'AGTTGGAAAC', 'GGGAATATGC', 'GAACCCCTGA', 'CAGCACTGAC', 'AGGAGAGGCG']\n"
     ]
    }
   ],
   "source": [
    "vertex_strands = [''.join([random.choice(list(pairings.keys()))\n",
    "                          for _ in range(K)])for _ in range(V)]\n",
    "print(f\"Vertex Strands Generated:{vertex_strands}\")"
   ]
  },
  {
   "cell_type": "code",
   "execution_count": 16,
   "id": "f95258b9",
   "metadata": {},
   "outputs": [
    {
     "name": "stdout",
     "output_type": "stream",
     "text": [
      "\n",
      "Edge Strands Created: ['AGAGCTAACGGAAAG', 'AGAGCTAACGCTCAC', 'AGAGCTAACGGAACC', 'GGCGCCTCAC', 'CCCGCAGTTG', 'GGCGCAGGAGAGGCG', 'GAAACCTCAC', 'GAAACGAACC', 'GAAACGGGAA', 'TATGCGAACC', 'CCTGAGAAAG', 'CCTGACAGCA', 'CTGACAGGAGAGGCG']\n"
     ]
    }
   ],
   "source": [
    "def find_edge_strands(vertices, edges):\n",
    "    edge_strands = [vertices[v1][(K//2):] + \n",
    "                    vertices[v2][:(K//2)]for (v1, v2) in edges]\n",
    "    return [strand.replace(vertices[0][-(K//2):], \n",
    "                           vertices[0]).replace(vertices[-1][:(K//2)],\n",
    "                                                vertices[-1])\n",
    "            for strand in edge_strands]\n",
    "edge_strands = find_edge_strands(vertex_strands, edges)\n",
    "print(f\"\\nEdge Strands Created: {edge_strands}\")"
   ]
  },
  {
   "cell_type": "code",
   "execution_count": null,
   "id": "98ce2df2",
   "metadata": {},
   "outputs": [],
   "source": [
    "# 后5替换前5 后5替换前5 后5替换前5 后5替换前5 后5扩增前5  后5扩增前5\n",
    "\n",
    "#靠近前1或者后1路径，就只能按照前5 或后5加完整路径"
   ]
  },
  {
   "cell_type": "code",
   "execution_count": 17,
   "id": "5ed172b3",
   "metadata": {},
   "outputs": [
    {
     "name": "stdout",
     "output_type": "stream",
     "text": [
      "\n",
      "Complements Created: ['TCTCGATTGC', 'CTTTCCCGCG', 'GAGTGGGGCG', 'TCAACCTTTG', 'CCCTTATACG', 'CTTGGGGACT', 'GTCGTGACTG', 'TCCTCTCCGC']\n"
     ]
    }
   ],
   "source": [
    "def find_complement(strand): # 转制为补链\n",
    "    output = \"\"\n",
    "    for nuc in strand: output += pairings[nuc]\n",
    "    return output\n",
    "\n",
    "complements = [find_complement(v)for v in vertex_strands]\n",
    "print(f\"\\nComplements Created: {complements}\")"
   ]
  },
  {
   "cell_type": "code",
   "execution_count": 19,
   "id": "a4d2fedc",
   "metadata": {},
   "outputs": [
    {
     "name": "stdout",
     "output_type": "stream",
     "text": [
      "Strands Created: 3466\n"
     ]
    }
   ],
   "source": [
    "all_edges = edge_strands * 10000 #扩充样本\n",
    "random.shuffle(all_edges)\n",
    "  #打散样本\n",
    "path_strands = []\n",
    "growing_strand = \"\"\n",
    "\n",
    "for idx, s in enumerate(all_edges):#枚举 idx为索引号 s为碱基\n",
    "    if len(growing_strand) == 0:\n",
    "        growing_strand +=s\n",
    "    else:\n",
    "        target_comp = find_complement(growing_strand[-(K//2):]) + find_complement(s[:(K//2)])\n",
    "        #找现在成长路径后5个碱基与s的前五个相加组成target碱基\n",
    "        if target_comp in complements: # ？complements？\n",
    "            growing_strand += s\n",
    "    \n",
    "    if growing_strand[-K:] == vertex_strands[-1]: #10位之后的几位等于标准序列倒数第一\n",
    "        path_strands.append(growing_strand) #增加进路径\n",
    "        growing_strand = \"\" #设置为空\n",
    "\n",
    "print(f\"Strands Created: {len(path_strands)}\")"
   ]
  },
  {
   "cell_type": "markdown",
   "id": "bcd7fb6e",
   "metadata": {},
   "source": [
    "### step2 : Remove paths without correct start & end"
   ]
  },
  {
   "cell_type": "code",
   "execution_count": 20,
   "id": "e1db8792",
   "metadata": {},
   "outputs": [
    {
     "name": "stdout",
     "output_type": "stream",
     "text": [
      "\n",
      " Strands Strarting at I and Ending at A: 816\n"
     ]
    }
   ],
   "source": [
    "in_and_out_strands = [path for path in path_strands if path[:K] == vertex_strands[0] and path[-K:] == vertex_strands[-1]]\n",
    "print(f\"\\n Strands Strarting at {vertex_names[0]} and Ending at {vertex_names[V-1]}: {len(in_and_out_strands)}\")\n",
    "\n",
    "#头尾和序列头尾不一样的，删除掉"
   ]
  },
  {
   "cell_type": "markdown",
   "id": "5309afb6",
   "metadata": {},
   "source": [
    "### step 3: Keep paths with N vertices"
   ]
  },
  {
   "cell_type": "code",
   "execution_count": 23,
   "id": "66a82b2a",
   "metadata": {},
   "outputs": [
    {
     "name": "stdout",
     "output_type": "stream",
     "text": [
      "\n",
      "Strands with 8 Steps:82\n"
     ]
    }
   ],
   "source": [
    "n_step_paths = [path for path in in_and_out_strands if len(path) == V*10]\n",
    "print(f\"\\nStrands with {V} Steps:{len(n_step_paths)}\")\n",
    "\n",
    "#选出长度符合八个数据的碱基变体 8*10 碱基为10"
   ]
  },
  {
   "cell_type": "markdown",
   "id": "93296621",
   "metadata": {},
   "source": [
    "### step4: Keep onlu path that touch each vertex once"
   ]
  },
  {
   "cell_type": "code",
   "execution_count": 25,
   "id": "f2069c6d",
   "metadata": {},
   "outputs": [
    {
     "name": "stdout",
     "output_type": "stream",
     "text": [
      "- Already Checked for I\n",
      "- Eliminating Paths Not Including L: 65 Remaining\n",
      "- Eliminating Paths Not Including O: 65 Remaining\n",
      "- Eliminating Paths Not Including V: 65 Remaining\n",
      "- Eliminating Paths Not Including E: 41 Remaining\n",
      "- Eliminating Paths Not Including D: 41 Remaining\n",
      "- Eliminating Paths Not Including N: 31 Remaining\n",
      "- Already Checked for A\n",
      "Strands Including All Vertices >= Once: 31\n"
     ]
    }
   ],
   "source": [
    "included = n_step_paths\n",
    "for i in range(len(vertex_strands)):\n",
    "    included = [path for path in included if vertex_strands[i] in path]\n",
    "    if i == 0 or i == len(vertex_strands) - 1:\n",
    "        print(f\"- Already Checked for {vertex_names[i]}\")\n",
    "    else:\n",
    "        print(f\"- Eliminating Paths Not Including {vertex_names[i]}: {len(included)} Remaining\")\n",
    "print(f\"Strands Including All Vertices >= Once: {len(included)}\")\n",
    "# 检查是否重复 或者是否有序"
   ]
  },
  {
   "cell_type": "markdown",
   "id": "9fe31b53",
   "metadata": {},
   "source": [
    "### step5: extract any path that remain"
   ]
  },
  {
   "cell_type": "code",
   "execution_count": 32,
   "id": "436f1599",
   "metadata": {},
   "outputs": [
    {
     "name": "stdout",
     "output_type": "stream",
     "text": [
      "\n",
      " Solution: ['I', 'L', 'O', 'V', 'E', 'D', 'N', 'A']\n"
     ]
    }
   ],
   "source": [
    "solution = included[0]\n",
    "# 将筛选出来的路径转码\n",
    "def decode_solution(strand):\n",
    "    path = []\n",
    "    for i in range(0, len(strand), 10):\n",
    "        s = strand[i: i+10]\n",
    "        vertex_num = vertex_strands.index(s)\n",
    "        decoded_letter = vertex_names[vertex_num]\n",
    "        path.append(decoded_letter)\n",
    "    return path\n",
    "\n",
    "path = decode_solution(solution)\n",
    "print(f\"\\n Solution: {str(path)}\")"
   ]
  },
  {
   "cell_type": "code",
   "execution_count": null,
   "id": "72d7b3e5",
   "metadata": {},
   "outputs": [],
   "source": [
    "\"\"\"\n",
    "思路 用坐标系的方式 给零件用碱基进行编码，\n",
    "位置信息也可以用ATCG编码，分别为上下左右，\n",
    "设置规矩，然后随机生成\n",
    "筛选掉超出规模的，筛选掉零件超过限制的，筛选掉剩余面积过多的，\n",
    "筛选掉每个工件都用到的，筛选掉总板料用的多的。\n",
    "随着随机生成量越多，得到全局最优越强\n",
    "\"\"\""
   ]
  }
 ],
 "metadata": {
  "kernelspec": {
   "display_name": "Python 3",
   "language": "python",
   "name": "python3"
  },
  "language_info": {
   "codemirror_mode": {
    "name": "ipython",
    "version": 3
   },
   "file_extension": ".py",
   "mimetype": "text/x-python",
   "name": "python",
   "nbconvert_exporter": "python",
   "pygments_lexer": "ipython3",
   "version": "3.8.8"
  }
 },
 "nbformat": 4,
 "nbformat_minor": 5
}
