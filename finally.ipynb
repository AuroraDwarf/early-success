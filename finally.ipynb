{
 "cells": [
  {
   "cell_type": "code",
   "execution_count": 1,
   "id": "da0de975",
   "metadata": {},
   "outputs": [],
   "source": [
    "import pandas as pd\n",
    "import numpy as np"
   ]
  },
  {
   "cell_type": "code",
   "execution_count": 14,
   "id": "e06521d1",
   "metadata": {},
   "outputs": [],
   "source": [
    "def input_cut(path, s_name, xingcai):\n",
    "    #路径\n",
    "    data = pd.read_excel(path, sheet_name = s_name)\n",
    "    \n",
    "    data_part = data[data['型材'].isin([xingcai])]\n",
    "    #格式转换str to int\n",
    "    data_part[\"数量\"] = data[\"数量\"].astype(\"int\")\n",
    "    data_part[\"长度\"] = data[\"长度\"].astype(\"float\")\n",
    "    \n",
    "    \n",
    "    #转换list\n",
    "    length_list = data_part[\"长度\"].values.tolist()\n",
    "    num_list = data_part[\"数量\"].values.tolist()\n",
    "    \n",
    "    return length_list, num_list\n",
    "\n",
    "def line_choice(length_list, num_list):\n",
    "    sheet_long = [6000, 9000, 12000]\n",
    "    for i in sheet_long:\n",
    "        all_long = 0\n",
    "        sheet = 0\n",
    "\n",
    "        for x, y in zip(length_list, num_list):\n",
    "            if x > i:\n",
    "                last = x - i\n",
    "                sheet += y\n",
    "                all_long += last*y\n",
    "            else:\n",
    "                all_long += x*y\n",
    "\n",
    "        last_part = all_long % i\n",
    "        sheet += all_long // i\n",
    "\n",
    "        if i == 9000:\n",
    "            if last_part <= 6000:\n",
    "                last_sheet = 6000\n",
    "                cost_long = sheet*i + last_sheet\n",
    "                sheet += 1\n",
    "            else:\n",
    "                last_sheet = 9000\n",
    "                cost_long = sheet*i + last_sheet\n",
    "                sheet += 1\n",
    "        elif i == 12000:\n",
    "            if last_part <= 6000:\n",
    "                last_sheet = 6000\n",
    "                cost_long = sheet*i + last_sheet\n",
    "                sheet += 1\n",
    "            elif 6000 < last_part <= 9000:\n",
    "                last_sheet = 9000\n",
    "                cost_long = sheet*i + last_sheet\n",
    "                sheet += 1\n",
    "            else:\n",
    "                last_sheet = 12000\n",
    "                cost_long = sheet*i + last_sheet\n",
    "                sheet += 1\n",
    "        else:\n",
    "            last_sheet = 6000\n",
    "            cost_long = sheet*i + last_sheet\n",
    "            sheet += 1\n",
    "        \n",
    "        print(f\"in the sheet length with: \\\"{i}\\\" ----- the number of \\\"{i}\\\" sheet need:{sheet - 1} ----- the last one sheet length is: \\\"{last_sheet}\\\" and the total sheet cost is :{cost_long}\\nThe total sheet count is: \\\"{i}\\\" x {sheet- 1} +\\\" {last_sheet}\\\"\")\n",
    "        print(\"-----------------------------------------------------------------------------------------------------------------\")\n",
    "#     if 9000 > last_part >= 6000:\n",
    "#         finally_part =  last_part - 6000\n",
    "#         sheet += 1\n",
    "#         last2 = 6000\n",
    "#     elif 12000 > last_part >= 9000:\n",
    "#         finally_part =  last_part - 9000\n",
    "#         sheet += 1\n",
    "#         last2 = 9000\n",
    "#     elif last_part\n"
   ]
  },
  {
   "cell_type": "code",
   "execution_count": 15,
   "id": "5c4d6e0e",
   "metadata": {},
   "outputs": [
    {
     "name": "stdout",
     "output_type": "stream",
     "text": [
      "in the sheet length with: \"6000\" ----- the number of \"6000\" sheet need:44.0 ----- the last one sheet length is: \"6000\" and the total sheet cost is :270000.0\n",
      "The total sheet count is: \"6000\" x 44.0 +\" 6000\"\n",
      "-----------------------------------------------------------------------------------------------------------------\n",
      "in the sheet length with: \"9000\" ----- the number of \"9000\" sheet need:29.0 ----- the last one sheet length is: \"9000\" and the total sheet cost is :270000.0\n",
      "The total sheet count is: \"9000\" x 29.0 +\" 9000\"\n",
      "-----------------------------------------------------------------------------------------------------------------\n",
      "in the sheet length with: \"12000\" ----- the number of \"12000\" sheet need:22.0 ----- the last one sheet length is: \"6000\" and the total sheet cost is :270000.0\n",
      "The total sheet count is: \"12000\" x 22.0 +\" 6000\"\n",
      "-----------------------------------------------------------------------------------------------------------------\n"
     ]
    },
    {
     "name": "stderr",
     "output_type": "stream",
     "text": [
      "<ipython-input-14-28c2846e076f>:7: SettingWithCopyWarning: \n",
      "A value is trying to be set on a copy of a slice from a DataFrame.\n",
      "Try using .loc[row_indexer,col_indexer] = value instead\n",
      "\n",
      "See the caveats in the documentation: https://pandas.pydata.org/pandas-docs/stable/user_guide/indexing.html#returning-a-view-versus-a-copy\n",
      "  data_part[\"数量\"] = data[\"数量\"].astype(\"int\")\n",
      "<ipython-input-14-28c2846e076f>:8: SettingWithCopyWarning: \n",
      "A value is trying to be set on a copy of a slice from a DataFrame.\n",
      "Try using .loc[row_indexer,col_indexer] = value instead\n",
      "\n",
      "See the caveats in the documentation: https://pandas.pydata.org/pandas-docs/stable/user_guide/indexing.html#returning-a-view-versus-a-copy\n",
      "  data_part[\"长度\"] = data[\"长度\"].astype(\"float\")\n"
     ]
    }
   ],
   "source": [
    "config = {\n",
    "    \"file\" : \"huayuab.xls\",\n",
    "    \"sheet_num\" : \"Q235B-1d\",\n",
    "    \"material\" : \"L100*6\"\n",
    "}\n",
    "\n",
    "length_list, num_list = input_cut(config[\"file\"], config[\"sheet_num\"], config[\"material\"])\n",
    "line_choice(length_list, num_list)"
   ]
  },
  {
   "cell_type": "code",
   "execution_count": null,
   "id": "5c889d7c",
   "metadata": {},
   "outputs": [],
   "source": []
  }
 ],
 "metadata": {
  "kernelspec": {
   "display_name": "Python 3",
   "language": "python",
   "name": "python3"
  },
  "language_info": {
   "codemirror_mode": {
    "name": "ipython",
    "version": 3
   },
   "file_extension": ".py",
   "mimetype": "text/x-python",
   "name": "python",
   "nbconvert_exporter": "python",
   "pygments_lexer": "ipython3",
   "version": "3.8.8"
  }
 },
 "nbformat": 4,
 "nbformat_minor": 5
}
